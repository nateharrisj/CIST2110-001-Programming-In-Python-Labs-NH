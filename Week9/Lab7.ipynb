{
 "cells": [
  {
   "cell_type": "markdown",
   "metadata": {},
   "source": [
    "# Python Lists, and API's\n",
    "### Name:\n",
    "### Lab: 6\n",
    "\n",
    "Todays Lab will be going over python lists, tuples, and using some api's\n",
    "to get data from the internet. We will be using the requests library to\n",
    "get data from the internet. We will also be using the json library to\n",
    "parse the data we get from the internet."
   ]
  },
  {
   "cell_type": "code",
   "execution_count": 1,
   "metadata": {},
   "outputs": [],
   "source": [
    "# Creating Lists and Tuples\n",
    "\n",
    "# Create a list named fruits with the following elements: \"apple\", \"banana\", \"cherry\".\n",
    "\n",
    "fruits = [\"apple\", \"banana\", \"cherry\"]\n",
    "\n",
    "# Create a tuple named coordinates with three numbers representing a point in 3D space.\n",
    "\n",
    "coordinates = (1, 2, 3)\n"
   ]
  },
  {
   "cell_type": "code",
   "execution_count": 2,
   "metadata": {},
   "outputs": [
    {
     "name": "stdout",
     "output_type": "stream",
     "text": [
      "banana\n",
      "3\n"
     ]
    }
   ],
   "source": [
    "# Accessing Elements\n",
    "\n",
    "# Print the second element of the fruits list.\n",
    "\n",
    "print(fruits[1])\n",
    "\n",
    "# Print the last element of the coordinates tuple.\n",
    "\n",
    "print(coordinates[-1])"
   ]
  },
  {
   "cell_type": "code",
   "execution_count": 3,
   "metadata": {},
   "outputs": [],
   "source": [
    "# Modifying lists\n",
    "\n",
    "# Add \"orange\" to the end of the fruits list.\n",
    "\n",
    "fruits.append(\"orange\")\n",
    "\n",
    "# Insert \"blueberry\" at the beginning of the fruits list.\n",
    "\n",
    "fruits.insert(0, \"blueberry\")\n",
    "\n",
    "#  Remove \"banana\" from the fruits list.\n",
    "\n",
    "fruits.remove(\"banana\")\n",
    "\n",
    "# Change the first element of the fruits list to \"strawberry\".\n",
    "\n",
    "fruits[0] = \"strawberry\""
   ]
  },
  {
   "cell_type": "code",
   "execution_count": 4,
   "metadata": {},
   "outputs": [
    {
     "name": "stdout",
     "output_type": "stream",
     "text": [
      "['cherry', 'orange']\n"
     ]
    }
   ],
   "source": [
    "# List Slicing\n",
    "\n",
    "# Create a new list berries that contains only the \"blueberry\" and \"strawberry\" from the fruits list.\n",
    "\n",
    "berries = fruits[0:2]\n",
    "\n",
    "# Print the last two elements of the fruits list using negative indexing.\n",
    "\n",
    "print(fruits[-2:])\n"
   ]
  },
  {
   "cell_type": "code",
   "execution_count": 6,
   "metadata": {},
   "outputs": [],
   "source": [
    "# List Comprehensions\n",
    "\n",
    "# Create a new list even_fruits that contains only the fruits with an even number of characters from the fruits list.\n",
    "\n",
    "even_fruits = [fruit for fruit in fruits if len(fruit) % 2 == 0]\n",
    "\n",
    "# Create a new list upper_fruits that contains all the fruits from the fruits list in uppercase letters.\n",
    "\n",
    "upper_fruits = [fruit.upper() for fruit in fruits]\n"
   ]
  },
  {
   "cell_type": "code",
   "execution_count": 10,
   "metadata": {},
   "outputs": [
    {
     "ename": "AttributeError",
     "evalue": "'tuple' object has no attribute 'append'",
     "output_type": "error",
     "traceback": [
      "\u001b[1;31m---------------------------------------------------------------------------\u001b[0m",
      "\u001b[1;31mAttributeError\u001b[0m                            Traceback (most recent call last)",
      "\u001b[1;32mc:\\Users\\nateh\\Desktop\\git\\CIST2110-001-Programming-In-Python-Labs-NH-1\\Week9\\Lab7.ipynb Cell 7\u001b[0m line \u001b[0;36m9\n\u001b[0;32m      <a href='vscode-notebook-cell:/c%3A/Users/nateh/Desktop/git/CIST2110-001-Programming-In-Python-Labs-NH-1/Week9/Lab7.ipynb#W6sZmlsZQ%3D%3D?line=0'>1</a>\u001b[0m \u001b[39m# Tuples and immutability\u001b[39;00m\n\u001b[0;32m      <a href='vscode-notebook-cell:/c%3A/Users/nateh/Desktop/git/CIST2110-001-Programming-In-Python-Labs-NH-1/Week9/Lab7.ipynb#W6sZmlsZQ%3D%3D?line=1'>2</a>\u001b[0m \n\u001b[0;32m      <a href='vscode-notebook-cell:/c%3A/Users/nateh/Desktop/git/CIST2110-001-Programming-In-Python-Labs-NH-1/Week9/Lab7.ipynb#W6sZmlsZQ%3D%3D?line=2'>3</a>\u001b[0m \u001b[39m# Try to change the first element of the coordinates tuple to a different number and observe what happens.\u001b[39;00m\n\u001b[1;32m   (...)\u001b[0m\n\u001b[0;32m      <a href='vscode-notebook-cell:/c%3A/Users/nateh/Desktop/git/CIST2110-001-Programming-In-Python-Labs-NH-1/Week9/Lab7.ipynb#W6sZmlsZQ%3D%3D?line=5'>6</a>\u001b[0m \n\u001b[0;32m      <a href='vscode-notebook-cell:/c%3A/Users/nateh/Desktop/git/CIST2110-001-Programming-In-Python-Labs-NH-1/Week9/Lab7.ipynb#W6sZmlsZQ%3D%3D?line=6'>7</a>\u001b[0m \u001b[39m# Try to add a new element to the coordinates tuple and observe what happens.\u001b[39;00m\n\u001b[1;32m----> <a href='vscode-notebook-cell:/c%3A/Users/nateh/Desktop/git/CIST2110-001-Programming-In-Python-Labs-NH-1/Week9/Lab7.ipynb#W6sZmlsZQ%3D%3D?line=8'>9</a>\u001b[0m coordinates\u001b[39m.\u001b[39;49mappend(\u001b[39m4\u001b[39m)\n\u001b[0;32m     <a href='vscode-notebook-cell:/c%3A/Users/nateh/Desktop/git/CIST2110-001-Programming-In-Python-Labs-NH-1/Week9/Lab7.ipynb#W6sZmlsZQ%3D%3D?line=10'>11</a>\u001b[0m \u001b[39m# Create a new tuple new_coordinates that is a modified version of coordinates with the first element changed.\u001b[39;00m\n\u001b[0;32m     <a href='vscode-notebook-cell:/c%3A/Users/nateh/Desktop/git/CIST2110-001-Programming-In-Python-Labs-NH-1/Week9/Lab7.ipynb#W6sZmlsZQ%3D%3D?line=12'>13</a>\u001b[0m new_coordinates \u001b[39m=\u001b[39m (\u001b[39m4\u001b[39m, \u001b[39m2\u001b[39m, \u001b[39m3\u001b[39m)\n",
      "\u001b[1;31mAttributeError\u001b[0m: 'tuple' object has no attribute 'append'"
     ]
    }
   ],
   "source": [
    "# Tuples and immutability\n",
    "\n",
    "# Try to change the first element of the coordinates tuple to a different number and observe what happens.\n",
    "\n",
    "coordinates[0] = 4\n",
    "\n",
    "# Try to add a new element to the coordinates tuple and observe what happens.\n",
    "\n",
    "coordinates.append(4)\n",
    "\n",
    "# Create a new tuple new_coordinates that is a modified version of coordinates with the first element changed.\n",
    "\n",
    "new_coordinates = (4, 2, 3)"
   ]
  },
  {
   "cell_type": "code",
   "execution_count": 8,
   "metadata": {},
   "outputs": [
    {
     "name": "stdout",
     "output_type": "stream",
     "text": [
      "4\n",
      "['apple', 'cherry', 'orange', 'strawberry']\n",
      "1\n"
     ]
    }
   ],
   "source": [
    "# Built-in Functions and Methods\n",
    "\n",
    "# Use the len() function to print the length of the fruits list.\n",
    "\n",
    "print(len(fruits))\n",
    "\n",
    "# Use the sorted() function to print a sorted version of the fruits list without changing the original list.\n",
    "\n",
    "print(sorted(fruits))   \n",
    "\n",
    "# Use the list.sort() method to sort the fruits list in place.\n",
    "\n",
    "fruits.sort()   \n",
    "\n",
    "# Find the index of \"cherry\" in the fruits list using the list.index() method.\n",
    "\n",
    "print(fruits.index(\"cherry\"))   "
   ]
  },
  {
   "cell_type": "markdown",
   "metadata": {},
   "source": [
    "# Working with API's \n",
    "\n"
   ]
  },
  {
   "cell_type": "code",
   "execution_count": 12,
   "metadata": {},
   "outputs": [],
   "source": [
    "# import the requests library to get data from the internet\n",
    "\n",
    "import requests\n",
    "\n",
    "# import the json library to parse the data we get from the internet\n",
    "\n",
    "import json\n",
    "\n"
   ]
  },
  {
   "cell_type": "code",
   "execution_count": 14,
   "metadata": {},
   "outputs": [],
   "source": [
    "# Use the requests library to send a GET request to the JSONPlaceholder API to retrieve a list of posts. The API endpoint is https://jsonplaceholder.typicode.com/posts.\n",
    "\n",
    "api_response = requests.get(\"https://jsonplaceholder.typicode.com/posts\")"
   ]
  },
  {
   "cell_type": "code",
   "execution_count": 15,
   "metadata": {},
   "outputs": [
    {
     "name": "stdout",
     "output_type": "stream",
     "text": [
      "sunt aut facere repellat provident occaecati excepturi optio reprehenderit\n"
     ]
    }
   ],
   "source": [
    "# Parse the JSON response and store it in a variable posts.\n",
    "\n",
    "posts = json.loads(api_response.text)\n",
    "\n",
    "# Note: We did not learn about JSON yet (This will be taught in more depth in our lesson on Dictionaries for now just think of it as a way to represent data.) \n",
    "\n",
    "#  Print the title of the first post in the posts list.\n",
    "\n",
    "print(posts[0][\"title\"])\n",
    "\n",
    "# Create a list post_titles that contains the titles of all the posts.\n",
    "\n",
    "post_titles = [post[\"title\"] for post in posts]"
   ]
  },
  {
   "cell_type": "code",
   "execution_count": 6,
   "metadata": {},
   "outputs": [],
   "source": [
    "# Find the post with the longest title and print its title and body. Print the titles of the first 5 posts using slicing. \n",
    "# Note: Copilot might try to fill in a lambda function for this task. Try to solve it without using a lambda function.\n",
    "\n",
    "#don't use a lambda function\n",
    "import operator\n",
    "longest_post = max(posts, key = operator.itemgetter(\"title\"))\n",
    "print(longest_post[\"title\"])\n",
    "\n"
   ]
  },
  {
   "cell_type": "code",
   "execution_count": 7,
   "metadata": {},
   "outputs": [],
   "source": [
    "# Create a tuple post_info that contains the userId, title, and body of the fifth post in the list.\n",
    "\n",
    "post_info = (posts[4][\"userId\"], posts[4][\"title\"], posts[4][\"body\"])\n"
   ]
  }
 ],
 "metadata": {
  "kernelspec": {
   "display_name": "venv",
   "language": "python",
   "name": "python3"
  },
  "language_info": {
   "codemirror_mode": {
    "name": "ipython",
    "version": 3
   },
   "file_extension": ".py",
   "mimetype": "text/x-python",
   "name": "python",
   "nbconvert_exporter": "python",
   "pygments_lexer": "ipython3",
   "version": "3.11.6"
  }
 },
 "nbformat": 4,
 "nbformat_minor": 2
}
